{
 "cells": [
  {
   "cell_type": "markdown",
   "source": [
    "# TTS\n",
    "In diesem Notebook sehen wir uns insgesamt drei verschiedene TTS Lösungen an. Zwei davon sind Cloud basiert. Eine ist lokal.\n",
    "## Google TTS\n",
    "Google TTS ist eine TTS Lösung von Google. Es diejenige Stimme, welche auch beim Vorlesen eines Textes von Google Translate verwendet wird.\n",
    "### API\n",
    "Nachfolgend sehen wir beispielhaft, wie die Google TTS API verwendet werden kann."
   ],
   "metadata": {
    "collapsed": false
   },
   "id": "92c238c5f960ecba"
  },
  {
   "cell_type": "code",
   "execution_count": 32,
   "outputs": [],
   "source": [
    "from gtts import gTTS\n",
    "import pygame\n",
    "import io"
   ],
   "metadata": {
    "collapsed": false,
    "ExecuteTime": {
     "end_time": "2023-10-04T15:18:40.713639600Z",
     "start_time": "2023-10-04T15:18:40.695081Z"
    }
   },
   "id": "daaeacc7ff237252"
  },
  {
   "cell_type": "code",
   "execution_count": 33,
   "outputs": [],
   "source": [
    "def speak_text_google(text, lang='en'):\n",
    "    \"\"\"\n",
    "    Wandelt Text in Audio um und spielt es ab.\n",
    "\n",
    "    :param text: (str) Der Text, der gesprochen werden soll.\n",
    "    :param lang: (str) Sprachcode, z. B. 'en' für Englisch, 'de' für Deutsch, etc.\n",
    "    \"\"\"\n",
    "    try:\n",
    "        # Text zu Audio konvertieren\n",
    "        tts = gTTS(text, lang=lang, slow=False)\n",
    "\n",
    "        # In einen BytesIO-Stream schreiben\n",
    "        audio_stream = io.BytesIO()\n",
    "        tts.write_to_fp(audio_stream)\n",
    "        audio_stream.seek(0)\n",
    "\n",
    "        # Mit pygame abspielen\n",
    "        pygame.mixer.init()\n",
    "        pygame.mixer.music.load(audio_stream)\n",
    "        pygame.mixer.music.play()\n",
    "        while pygame.mixer.music.get_busy():\n",
    "            pygame.time.Clock().tick(10)\n",
    "    except Exception as e:\n",
    "        print(\"Fehler:\", str(e))"
   ],
   "metadata": {
    "collapsed": false,
    "ExecuteTime": {
     "end_time": "2023-10-04T15:18:42.620170600Z",
     "start_time": "2023-10-04T15:18:42.523212100Z"
    }
   },
   "id": "e39560588621db5f"
  },
  {
   "cell_type": "code",
   "execution_count": 34,
   "outputs": [],
   "source": [
    "# Beispiel-Nutzung\n",
    "text_to_speak = 'Hallo, das ist ein Test, gesprochen von Google Text to Speech.'\n",
    "speak_text_google(text_to_speak, lang='de')"
   ],
   "metadata": {
    "collapsed": false,
    "ExecuteTime": {
     "end_time": "2023-10-04T15:18:49.893660200Z",
     "start_time": "2023-10-04T15:18:43.748136600Z"
    }
   },
   "id": "728dcdc58226393e"
  },
  {
   "cell_type": "markdown",
   "source": [
    "### Klasse GoogleTTS\n",
    "Hierbei handelt es sich um eine Klasse, welche die Google TTS API verwendet."
   ],
   "metadata": {
    "collapsed": false
   },
   "id": "4f7b2a6abe1e9e62"
  },
  {
   "cell_type": "code",
   "execution_count": 35,
   "outputs": [],
   "source": [
    "from gpt_bot.tts import GoogleTTS"
   ],
   "metadata": {
    "collapsed": false,
    "ExecuteTime": {
     "end_time": "2023-10-04T15:18:51.431367100Z",
     "start_time": "2023-10-04T15:18:51.406265400Z"
    }
   },
   "id": "1dc204d0f8759efa"
  },
  {
   "cell_type": "code",
   "execution_count": 36,
   "outputs": [],
   "source": [
    "# Beispiel-Nutzung\n",
    "google_tts = GoogleTTS()\n",
    "google_tts.tts(text_to_speak)"
   ],
   "metadata": {
    "collapsed": false,
    "ExecuteTime": {
     "end_time": "2023-10-04T15:18:58.364507500Z",
     "start_time": "2023-10-04T15:18:52.237719100Z"
    }
   },
   "id": "863b76be17c2d941"
  },
  {
   "cell_type": "markdown",
   "source": [
    "# Fazit Google TTS\n",
    "+ Einfach zu verwenden\n",
    "+ Schnell\n",
    "+ Kostenlos\n",
    "+ Keine Installation notwendig\n",
    "+ Keine Anmeldung notwendig\n",
    "+ Keine API Keys notwendig\n",
    "\n",
    "- Cloud basiert\n",
    "- Keine Kontrolle über die Daten\n",
    "- Keine Kontrolle über die Stimme\n",
    "- Mittelmässige Qualität"
   ],
   "metadata": {
    "collapsed": false
   },
   "id": "11ef662bed8a55be"
  },
  {
   "cell_type": "markdown",
   "source": [
    "## Coqui TTS\n",
    "Coqui TTS ist eine TTS Lösung, welche lokal auf dem Computer ausgeführt werden kann. Es gibt verschiedene Stimmen, die verwendet werden können. Die Stimme, die wir hier verwenden, ist Thorsten. Die Sprache wird synthetisiert. Dies geschieht über ein neuronales Netzwerk. Das ist wiederum relativ Ressourcen intensiv. Daher kann es sein, dass die Sprachsynthese einige Sekunden dauert.\n",
    "### API (lokal)\n",
    "Hier sehen wir beispielhaft, wie die Coqui TTS API verwendet werden kann."
   ],
   "metadata": {
    "collapsed": false
   },
   "id": "dba1f152735e432"
  },
  {
   "cell_type": "code",
   "execution_count": 37,
   "outputs": [],
   "source": [
    "import tempfile\n",
    "import pygame\n",
    "from TTS.api import TTS"
   ],
   "metadata": {
    "collapsed": false,
    "ExecuteTime": {
     "end_time": "2023-10-04T15:19:00.245396800Z",
     "start_time": "2023-10-04T15:19:00.200283200Z"
    }
   },
   "id": "df78a2e330cefa6c"
  },
  {
   "cell_type": "code",
   "execution_count": 38,
   "outputs": [],
   "source": [
    "def speak_text_coqui(text, model_name='tts_models/de/thorsten/vits', play=True):\n",
    "    \"\"\"\n",
    "    Methode zur Umwandlung von Text in Sprache\n",
    "\n",
    "    :param text: str: Text, der in Sprache umgewandelt werden soll\n",
    "    :param model_name: str: Pfad/Name des TTS-Modells\n",
    "    :param play: bool: Wenn True, spielt das Audio ab, sonst gibt den Dateipfad zurück\n",
    "    :return: None oder str: Gibt None zurück, wenn play=True, andernfalls den Dateipfad zur Audiodatei\n",
    "    \"\"\"\n",
    "    # Hier sollte dein Modell initialisiert und zum Konvertieren des Texts verwendet werden.\n",
    "    # Zum Beispiel: \n",
    "    model = TTS(model_name=model_name)\n",
    "    \n",
    "    # Erstelle eine temporäre Datei\n",
    "    tf = tempfile.NamedTemporaryFile(suffix='.wav', delete=False)\n",
    "    model.tts_to_file(text, file_path=tf)\n",
    "\n",
    "    # Wenn `play` True ist, Audio abspielen\n",
    "    if play:\n",
    "        pygame.mixer.init()\n",
    "        pygame.mixer.music.load(tf)\n",
    "        pygame.mixer.music.play()\n",
    "        while pygame.mixer.music.get_busy():\n",
    "            pygame.time.Clock().tick(10)\n",
    "        pygame.mixer.music.stop()\n",
    "        return None\n",
    "    # Wenn `play` False ist, Dateipfad zurückgeben\n",
    "    else:\n",
    "        return tf.name"
   ],
   "metadata": {
    "collapsed": false,
    "ExecuteTime": {
     "end_time": "2023-10-04T15:19:01.067124Z",
     "start_time": "2023-10-04T15:19:00.965636800Z"
    }
   },
   "id": "d7d33abb6e8e2dcd"
  },
  {
   "cell_type": "code",
   "execution_count": 39,
   "outputs": [
    {
     "name": "stdout",
     "output_type": "stream",
     "text": [
      " > tts_models/de/thorsten/vits is already downloaded.\n",
      " > Using model: vits\n",
      " > Setting up Audio Processor...\n",
      " | > sample_rate:22050\n",
      " | > resample:False\n",
      " | > num_mels:80\n",
      " | > log_func:np.log10\n",
      " | > min_level_db:0\n",
      " | > frame_shift_ms:None\n",
      " | > frame_length_ms:None\n",
      " | > ref_level_db:None\n",
      " | > fft_size:1024\n",
      " | > power:None\n",
      " | > preemphasis:0.0\n",
      " | > griffin_lim_iters:None\n",
      " | > signal_norm:None\n",
      " | > symmetric_norm:None\n",
      " | > mel_fmin:0\n",
      " | > mel_fmax:None\n",
      " | > pitch_fmin:None\n",
      " | > pitch_fmax:None\n",
      " | > spec_gain:20.0\n",
      " | > stft_pad_mode:reflect\n",
      " | > max_norm:1.0\n",
      " | > clip_norm:True\n",
      " | > do_trim_silence:False\n",
      " | > trim_db:60\n",
      " | > do_sound_norm:False\n",
      " | > do_amp_to_db_linear:True\n",
      " | > do_amp_to_db_mel:True\n",
      " | > do_rms_norm:False\n",
      " | > db_level:None\n",
      " | > stats_path:None\n",
      " | > base:10\n",
      " | > hop_length:256\n",
      " | > win_length:1024\n",
      " > Text splitted to sentences.\n",
      "['Hallo, das ist ein Test, gesprochen von Coqui Text to Speech.', 'Die Sprechende Stimme ist Thorsten']\n",
      " > Processing time: 4.454474687576294\n",
      " > Real-time factor: 0.616719201207161\n"
     ]
    }
   ],
   "source": [
    "# Beispiel-Nutzung\n",
    "text_to_speak = 'Hallo, das ist ein Test, gesprochen von Coqui Text to Speech. Die Sprechende Stimme ist Thorsten'\n",
    "speak_text_coqui(text_to_speak, model_name='tts_models/de/thorsten/vits')"
   ],
   "metadata": {
    "collapsed": false,
    "ExecuteTime": {
     "end_time": "2023-10-04T15:19:17.673836700Z",
     "start_time": "2023-10-04T15:19:02.978160700Z"
    }
   },
   "id": "a24d06d98a899c60"
  },
  {
   "cell_type": "markdown",
   "source": [
    "### Klasse CoquiTTS\n",
    "Das ist die Implementierung der Coqui TTS API als Klasse."
   ],
   "metadata": {
    "collapsed": false
   },
   "id": "b72cbeebf2ee7aad"
  },
  {
   "cell_type": "code",
   "execution_count": 40,
   "outputs": [],
   "source": [
    "from gpt_bot.tts import CoquiTTS"
   ],
   "metadata": {
    "collapsed": false,
    "ExecuteTime": {
     "end_time": "2023-10-04T15:19:20.206791200Z",
     "start_time": "2023-10-04T15:19:20.104186900Z"
    }
   },
   "id": "9445ff570be65d15"
  },
  {
   "cell_type": "code",
   "execution_count": 41,
   "outputs": [
    {
     "name": "stdout",
     "output_type": "stream",
     "text": [
      " > tts_models/de/thorsten/vits is already downloaded.\n",
      " > Using model: vits\n",
      " > Setting up Audio Processor...\n",
      " | > sample_rate:22050\n",
      " | > resample:False\n",
      " | > num_mels:80\n",
      " | > log_func:np.log10\n",
      " | > min_level_db:0\n",
      " | > frame_shift_ms:None\n",
      " | > frame_length_ms:None\n",
      " | > ref_level_db:None\n",
      " | > fft_size:1024\n",
      " | > power:None\n",
      " | > preemphasis:0.0\n",
      " | > griffin_lim_iters:None\n",
      " | > signal_norm:None\n",
      " | > symmetric_norm:None\n",
      " | > mel_fmin:0\n",
      " | > mel_fmax:None\n",
      " | > pitch_fmin:None\n",
      " | > pitch_fmax:None\n",
      " | > spec_gain:20.0\n",
      " | > stft_pad_mode:reflect\n",
      " | > max_norm:1.0\n",
      " | > clip_norm:True\n",
      " | > do_trim_silence:False\n",
      " | > trim_db:60\n",
      " | > do_sound_norm:False\n",
      " | > do_amp_to_db_linear:True\n",
      " | > do_amp_to_db_mel:True\n",
      " | > do_rms_norm:False\n",
      " | > db_level:None\n",
      " | > stats_path:None\n",
      " | > base:10\n",
      " | > hop_length:256\n",
      " | > win_length:1024\n",
      " > Text splitted to sentences.\n",
      "['Hallo, das ist ein Test, gesprochen von Coqui Text to Speech.', 'Die Sprechende Stimme ist Thorsten']\n",
      " > Processing time: 4.390752553939819\n",
      " > Real-time factor: 0.626009296854781\n"
     ]
    }
   ],
   "source": [
    "# Beispiel-Nutzung\n",
    "coqui_tts = CoquiTTS()\n",
    "coqui_tts.tts(text_to_speak)"
   ],
   "metadata": {
    "collapsed": false,
    "ExecuteTime": {
     "end_time": "2023-10-04T15:19:34.248906400Z",
     "start_time": "2023-10-04T15:19:21.127409900Z"
    }
   },
   "id": "fa79d5e99b7e4600"
  },
  {
   "cell_type": "markdown",
   "source": [
    "# Fazit Coqui TTS\n",
    "+ Lokal\n",
    "+ Kontrolle über die Daten\n",
    "+ Kontrolle über die Stimme\n",
    "+ Gute Qualität\n",
    "+ Kostenlos\n",
    "+ Open Source\n",
    "+ Keine Anmeldung notwendig\n",
    "+ Keine API Keys notwendig\n",
    "+ Eigene Stimmen können trainiert werden\n",
    "\n",
    "- Relativ Ressourcen intensiv\n",
    "- Installation notwendig (je nach Stime)\n",
    "- Schlechte Aussprache von Fremdwörtern (je nach Stimme)"
   ],
   "metadata": {
    "collapsed": false
   },
   "id": "eea1408a76b4512d"
  },
  {
   "cell_type": "markdown",
   "source": [
    "## Azure TTS\n",
    "Dies ist die TTS Lösung von Microsoft Azure cognitive services. Es gibt verschiedene Stimmen, die verwendet werden können. Die Stimme, die wir hier verwenden, ist Conrad. Die Sprache wird synthetisiert. Dies geschieht in der Cloud."
   ],
   "metadata": {
    "collapsed": false
   },
   "id": "7b7d89c660e95c9f"
  },
  {
   "cell_type": "code",
   "execution_count": 42,
   "outputs": [],
   "source": [
    "subscription_key = 'DEIN_AZURE_SUBSCRIPTION_KEY'\n",
    "region = 'DEIN_AZURE_SERVICE_REGION'"
   ],
   "metadata": {
    "collapsed": false,
    "ExecuteTime": {
     "end_time": "2023-10-04T15:19:37.889819300Z",
     "start_time": "2023-10-04T15:19:37.815711200Z"
    }
   },
   "id": "c10d79e33c94729"
  },
  {
   "cell_type": "markdown",
   "source": [
    "### API\n",
    "Nachfolgend sehen wir, wie die Azure TTS API verwendet werden kann."
   ],
   "metadata": {
    "collapsed": false
   },
   "id": "2a80d89930926060"
  },
  {
   "cell_type": "code",
   "execution_count": 43,
   "outputs": [],
   "source": [
    "import tempfile\n",
    "import azure.cognitiveservices.speech as speechsdk"
   ],
   "metadata": {
    "collapsed": false,
    "ExecuteTime": {
     "end_time": "2023-10-04T15:19:39.804153300Z",
     "start_time": "2023-10-04T15:19:39.760647Z"
    }
   },
   "id": "66f63cd93e83a50e"
  },
  {
   "cell_type": "code",
   "execution_count": 44,
   "outputs": [],
   "source": [
    "def speak_text_azure(text, subscription_key, region, model_name='de-DE-ConradNeural', play=True):\n",
    "    \"\"\"\n",
    "    Methode zur Umwandlung von Text in Sprache mit Azure\n",
    "\n",
    "    :param text: str: Text, der in Sprache umgewandelt werden soll\n",
    "    :param api_key: str: API-Schlüssel für Azure\n",
    "    :param region: str: Region für Azure\n",
    "    :param model_name: str: Stimmenname für Azure TTS\n",
    "    :param play: bool: Wenn True, spielt das Audio ab, sonst gibt den Dateipfad zurück\n",
    "    :return: None oder str: Gibt None zurück, wenn play=True, andernfalls den Dateipfad zur Audiodatei\n",
    "    \"\"\"\n",
    "    \n",
    "    # Erstellen der Azure Speech-Konfiguration\n",
    "    speech_config = speechsdk.SpeechConfig(subscription=subscription_key, region=region)\n",
    "    speech_config.speech_synthesis_voice_name = model_name\n",
    "\n",
    "    # Audio-Konfiguration abhängig von `play`\n",
    "    if play:\n",
    "        audio_config = speechsdk.audio.AudioOutputConfig(use_default_speaker=True)\n",
    "    else:\n",
    "        tf = tempfile.NamedTemporaryFile(suffix='.wav', delete=False)\n",
    "        audio_config = speechsdk.audio.AudioOutputConfig(filename=tf.name)\n",
    "    \n",
    "    # Erstellen des Sprachsynthetisierers und Synthetisieren des Textes\n",
    "    speech_synthesizer = speechsdk.SpeechSynthesizer(speech_config=speech_config, audio_config=audio_config)\n",
    "    speech_synthesis_result = speech_synthesizer.speak_text_async(text).get()\n",
    "    \n",
    "    # Überprüfen des Ergebnisses\n",
    "    if speech_synthesis_result.reason == speechsdk.ResultReason.SynthesizingAudioCompleted:\n",
    "        print(\"Speech synthesized for text [{}]\".format(text))\n",
    "    elif speech_synthesis_result.reason == speechsdk.ResultReason.Canceled:\n",
    "        cancellation_details = speech_synthesis_result.cancellation_details\n",
    "        print(\"Speech synthesis canceled: {}\".format(cancellation_details.reason))\n",
    "        if cancellation_details.reason == speechsdk.CancellationReason.Error:\n",
    "            if cancellation_details.error_details:\n",
    "                print(\"Error details: {}\".format(cancellation_details.error_details))\n",
    "                print(\"Did you update the subscription info?\")\n",
    "    \n",
    "    # Rückgabe abhängig von `play`\n",
    "    if play:\n",
    "        return None\n",
    "    else:\n",
    "        return tf.name"
   ],
   "metadata": {
    "collapsed": false,
    "ExecuteTime": {
     "end_time": "2023-10-04T15:19:40.656709800Z",
     "start_time": "2023-10-04T15:19:40.578393500Z"
    }
   },
   "id": "bd5d3532596560cb"
  },
  {
   "cell_type": "code",
   "execution_count": 45,
   "outputs": [
    {
     "name": "stdout",
     "output_type": "stream",
     "text": [
      "Speech synthesized for text [Hallo, das ist ein Test, gesprochen von Azure Text to Speech. Die Sprechende Stimme ist Conrad.]\n"
     ]
    }
   ],
   "source": [
    "# Beispiel-Nutzung\n",
    "text_to_speak = 'Hallo, das ist ein Test, gesprochen von Azure Text to Speech. Die Sprechende Stimme ist Conrad.'\n",
    "speak_text_azure(text_to_speak, subscription_key, region, model_name='de-DE-ConradNeural')"
   ],
   "metadata": {
    "collapsed": false,
    "ExecuteTime": {
     "end_time": "2023-10-04T15:19:49.733329700Z",
     "start_time": "2023-10-04T15:19:41.756064Z"
    }
   },
   "id": "3b5eb439c4e6edc9"
  },
  {
   "cell_type": "markdown",
   "source": [
    "### Klasse AzureTTS\n",
    "Hierbei handelt es sich um eine Klasse, welche die Azure TTS API verwendet."
   ],
   "metadata": {
    "collapsed": false
   },
   "id": "5a111500b6ec8477"
  },
  {
   "cell_type": "code",
   "execution_count": 46,
   "outputs": [],
   "source": [
    "from gpt_bot.tts import AzureTTS"
   ],
   "metadata": {
    "collapsed": false,
    "ExecuteTime": {
     "end_time": "2023-10-04T15:19:51.358645Z",
     "start_time": "2023-10-04T15:19:51.348180400Z"
    }
   },
   "id": "76f227fa67ac2cf2"
  },
  {
   "cell_type": "code",
   "execution_count": 47,
   "outputs": [
    {
     "name": "stdout",
     "output_type": "stream",
     "text": [
      "Speech synthesized for text [Hallo, das ist ein Test, gesprochen von Azure Text to Speech. Die Sprechende Stimme ist Conrad.]\n"
     ]
    }
   ],
   "source": [
    "# Beispiel-Nutzung\n",
    "azure_tts = AzureTTS(subscription_key, region)\n",
    "azure_tts.tts(text_to_speak)"
   ],
   "metadata": {
    "collapsed": false,
    "ExecuteTime": {
     "end_time": "2023-10-04T15:20:00.617479800Z",
     "start_time": "2023-10-04T15:19:52.730982800Z"
    }
   },
   "id": "ad580929d1c1df48"
  },
  {
   "cell_type": "markdown",
   "source": [
    "# Fazit Azure TTS\n",
    "+ Cloud basiert\n",
    "+ Kontrolle über die Stimme\n",
    "+ Sehr gute Qualität\n",
    "+ Kostenlos (für Studierende)\n",
    "+ Gute Synthese von Fremdwörtern und Eigennamen\n",
    "\n",
    "- Nicht lokal\n",
    "- Keine Kontrolle über die Daten\n",
    "- Nicht kostenlos\n",
    "- Anmeldung notwendig\n",
    "- API Keys notwendig\n",
    "- Eigene Stimmen können nicht trainiert werden"
   ],
   "metadata": {
    "collapsed": false
   },
   "id": "d4e9a058bd167a94"
  }
 ],
 "metadata": {
  "kernelspec": {
   "display_name": "Python 3",
   "language": "python",
   "name": "python3"
  },
  "language_info": {
   "codemirror_mode": {
    "name": "ipython",
    "version": 2
   },
   "file_extension": ".py",
   "mimetype": "text/x-python",
   "name": "python",
   "nbconvert_exporter": "python",
   "pygments_lexer": "ipython2",
   "version": "2.7.6"
  }
 },
 "nbformat": 4,
 "nbformat_minor": 5
}
