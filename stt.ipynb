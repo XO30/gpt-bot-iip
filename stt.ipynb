{
 "cells": [
  {
   "cell_type": "markdown",
   "source": [
    "# STT\n",
    "In diesem Notebook werden zwei verschiedene speach to text Module untersucht. Das erste ist das Google Speech to Text API und das zweite ist das Azure Speech to Text API. Für beide APIs gibt es einen Beispielaufruf. Weiterhin hat es für beide Module eine fertige Implementation, die so benutzt werden kann.\n",
    "## Google STT\n",
    "Hierbei handelt es sich um eine Lösung von Google. Diese ist kostenlos. Die Berechnung geschieht in der Cloud.\n",
    "### API\n",
    "Nachfolgend sehen wir, wie wir die Google STT API verwenden können."
   ],
   "metadata": {
    "collapsed": false
   },
   "id": "7ebafe4601e12f9e"
  },
  {
   "cell_type": "code",
   "execution_count": 27,
   "outputs": [],
   "source": [
    "import speech_recognition as sr"
   ],
   "metadata": {
    "collapsed": false,
    "ExecuteTime": {
     "end_time": "2023-10-04T15:16:56.115451200Z",
     "start_time": "2023-10-04T15:16:56.097895500Z"
    }
   },
   "id": "b6f13dc8a782d01"
  },
  {
   "cell_type": "code",
   "execution_count": 28,
   "outputs": [],
   "source": [
    "def recognize_speech_from_mic(recognizer, microphone):\n",
    "    \"\"\"\n",
    "    Transkribiert Sprache von Mikrofon und gibt sie aus.\n",
    "\n",
    "    :param recognizer: (Recognizer) Instanz von sr.Recognizer\n",
    "    :param microphone: (Microphone) Instanz von sr.Microphone\n",
    "    :return: (str) Transkribierter Text\n",
    "    \"\"\"\n",
    "    # Überprüfe Typ der `recognizer` und `microphone` Argumente\n",
    "    if not isinstance(recognizer, sr.Recognizer):\n",
    "        raise TypeError(\"`recognizer` muss `Recognizer` Instanz sein\")\n",
    "    if not isinstance(microphone, sr.Microphone):\n",
    "        raise TypeError(\"`microphone` muss `Microphone` Instanz sein\")\n",
    "\n",
    "    # Nehme Audio auf\n",
    "    with microphone as source:\n",
    "        print(\"Bitte sprich etwas:\")\n",
    "        recognizer.adjust_for_ambient_noise(source)  # passt sich an Umgebungsgeräusche an\n",
    "        audio = recognizer.listen(source, timeout=10)  # hört auf das erste Wort oder für 10 Sekunden\n",
    "\n",
    "    # Versuche, die Sprache zu erkennen\n",
    "    try:\n",
    "        print(\"Analyse des Audios...\")\n",
    "        speech_text = recognizer.recognize_google(audio, language=\"de-DE\")\n",
    "        print(\"Du hast gesagt: {}\".format(speech_text))\n",
    "    except sr.UnknownValueError:\n",
    "        # Wenn die Sprache nicht verstanden wurde\n",
    "        print(\"Entschuldigung, ich konnte das nicht verstehen.\")\n",
    "    except sr.RequestError as e:\n",
    "        # Wenn die API-Anfrage fehlschlägt\n",
    "        print(\"Es gab einen Fehler bei der Anfrage; {0}\".format(e))\n",
    "    \n",
    "    return speech_text if 'speech_text' in locals() else None"
   ],
   "metadata": {
    "collapsed": false,
    "ExecuteTime": {
     "end_time": "2023-10-04T15:16:57.140555800Z",
     "start_time": "2023-10-04T15:16:57.057022500Z"
    }
   },
   "id": "f198ecb66b192170"
  },
  {
   "cell_type": "code",
   "execution_count": 29,
   "outputs": [
    {
     "name": "stdout",
     "output_type": "stream",
     "text": [
      "Bitte sprich etwas:\n",
      "Analyse des Audios...\n",
      "Du hast gesagt: hallo wie geht's\n"
     ]
    }
   ],
   "source": [
    "# Beispiel-Nutzung\n",
    "recognizer = sr.Recognizer()\n",
    "microphone = sr.Microphone()\n",
    "recognized_text = recognize_speech_from_mic(recognizer, microphone)"
   ],
   "metadata": {
    "collapsed": false,
    "ExecuteTime": {
     "end_time": "2023-10-04T15:17:02.558507700Z",
     "start_time": "2023-10-04T15:16:58.318929300Z"
    }
   },
   "id": "818a2858808d1cef"
  },
  {
   "cell_type": "markdown",
   "source": [
    "### Klasse GoogleSTT\n",
    "Hierbei handelt es sich um eine Klasse, welche auf der API basiert. Sie kann so verwendet werden, wie sie ist."
   ],
   "metadata": {
    "collapsed": false
   },
   "id": "de4595dc63fe2606"
  },
  {
   "cell_type": "code",
   "execution_count": 30,
   "outputs": [],
   "source": [
    "from gpt_bot.stt import GoogleSTT"
   ],
   "metadata": {
    "collapsed": false,
    "ExecuteTime": {
     "end_time": "2023-10-04T15:17:05.101656Z",
     "start_time": "2023-10-04T15:17:05.043356600Z"
    }
   },
   "id": "33acc1b3ce9e8ef0"
  },
  {
   "cell_type": "code",
   "execution_count": 31,
   "outputs": [
    {
     "name": "stdout",
     "output_type": "stream",
     "text": [
      "say something...\n",
      "you said: hallo wie geht's\n"
     ]
    },
    {
     "data": {
      "text/plain": "\"hallo wie geht's\""
     },
     "execution_count": 31,
     "metadata": {},
     "output_type": "execute_result"
    }
   ],
   "source": [
    "# Beispiel-Nutzung\n",
    "google_stt = GoogleSTT(verbose=True)\n",
    "google_stt.stt()"
   ],
   "metadata": {
    "collapsed": false,
    "ExecuteTime": {
     "end_time": "2023-10-04T15:17:11.295823500Z",
     "start_time": "2023-10-04T15:17:06.507403800Z"
    }
   },
   "id": "9e23edfc9c8917c5"
  },
  {
   "cell_type": "markdown",
   "source": [
    "Fazit zu Google STT\n",
    "+ Relativ einfach zu verwenden\n",
    "+ Kostenlos\n",
    "+ Schnell\n",
    "\n",
    "- Hat Probleme mit Fremdwörtern und Eigennamen\n",
    "- Sprache muss definiert werden\n",
    "- durchschnittliche Performance"
   ],
   "metadata": {
    "collapsed": false
   },
   "id": "d1ba372f6d9686d7"
  },
  {
   "cell_type": "markdown",
   "source": [
    "## Azure STT\n",
    "Hierbei handelt es sich um eine Lösung von Microsoft. Diese ist nicht kostenlos. Mit einem Studenten Account bei Azure, kann der Dienst jedoch kostenlos genutzt werden. Die Berechnung geschieht in der Cloud."
   ],
   "metadata": {
    "collapsed": false
   },
   "id": "c3b43c9938db10ea"
  },
  {
   "cell_type": "code",
   "execution_count": 32,
   "outputs": [],
   "source": [
    "subscription_key = \"DEIN_AZURE_SUBSCRIPTION_KEY\"\n",
    "region = \"DEIN_AZURE_SERVICE_REGION\""
   ],
   "metadata": {
    "collapsed": false,
    "ExecuteTime": {
     "end_time": "2023-10-04T15:17:28.436264900Z",
     "start_time": "2023-10-04T15:17:28.339944200Z"
    }
   },
   "id": "f0fa353667a4574"
  },
  {
   "cell_type": "markdown",
   "source": [
    "### API\n",
    "Hierbei handelt es sich um ein Beispiel für die Verwendung der Azure cognitive services STT API."
   ],
   "metadata": {
    "collapsed": false
   },
   "id": "d9a58ad789e453aa"
  },
  {
   "cell_type": "code",
   "execution_count": 33,
   "outputs": [],
   "source": [
    "import azure.cognitiveservices.speech as speechsdk"
   ],
   "metadata": {
    "collapsed": false,
    "ExecuteTime": {
     "end_time": "2023-10-04T15:17:30.432390300Z",
     "start_time": "2023-10-04T15:17:30.382844100Z"
    }
   },
   "id": "714bdd3c93e01138"
  },
  {
   "cell_type": "code",
   "execution_count": 34,
   "outputs": [],
   "source": [
    "def speech_recognition_azure(subscription_key, region):\n",
    "    \"\"\"\n",
    "    Führt Spracherkennung mit Azure Speech SDK durch und gibt den erkannten Text aus.\n",
    "\n",
    "    :param subscription_key: (str) Azure Subscription Key.\n",
    "    :param region: (str) Region, in der der Azure Service erstellt wurde.\n",
    "    \"\"\"\n",
    "    # Konfiguration erstellen\n",
    "    speech_config = speechsdk.SpeechConfig(subscription=subscription_key, region=region)\n",
    "\n",
    "    # Spracherkenner mit der gegebenen Einstellung und Audio-Konfiguration erstellen\n",
    "    speech_recognizer = speechsdk.SpeechRecognizer(speech_config=speech_config, language=\"de-DE\")\n",
    "\n",
    "    print(\"Sage etwas...\")\n",
    "\n",
    "    # Einmalige, synchrone Spracherkennung\n",
    "    result = speech_recognizer.recognize_once()\n",
    "\n",
    "    # Überprüfen des Ergebnisses\n",
    "    if result.reason == speechsdk.ResultReason.RecognizedSpeech:\n",
    "        print(\"Erkannt: {}\".format(result.text))\n",
    "    elif result.reason == speechsdk.ResultReason.NoMatch:\n",
    "        print(\"Kein Treffer gefunden.\")\n",
    "    elif result.reason == speechsdk.ResultReason.Canceled:\n",
    "        cancellation_details = result.cancellation_details\n",
    "        print(\"Spracherkennung abgebrochen: {}\".format(cancellation_details.reason))\n",
    "        if cancellation_details.reason == speechsdk.CancellationReason.Error:\n",
    "            print(\"Fehler-Details: {}\".format(cancellation_details.error_details))"
   ],
   "metadata": {
    "collapsed": false,
    "ExecuteTime": {
     "end_time": "2023-10-04T15:17:31.459982500Z",
     "start_time": "2023-10-04T15:17:31.379376400Z"
    }
   },
   "id": "e698e5f9c2ec7471"
  },
  {
   "cell_type": "code",
   "execution_count": 35,
   "outputs": [
    {
     "name": "stdout",
     "output_type": "stream",
     "text": [
      "Sage etwas...\n",
      "Erkannt: Hallo, wie gehts?\n"
     ]
    }
   ],
   "source": [
    "# Beispiel-Nutzung\n",
    "speech_recognition_azure(subscription_key, region)"
   ],
   "metadata": {
    "collapsed": false,
    "ExecuteTime": {
     "end_time": "2023-10-04T15:17:37.542650800Z",
     "start_time": "2023-10-04T15:17:32.509639100Z"
    }
   },
   "id": "45582545cc7d265a"
  },
  {
   "cell_type": "markdown",
   "source": [
    "### Klasse AzureSTT\n",
    "Nachfolgend die Verwendung der fertigen Klasse, welche auf der API basiert."
   ],
   "metadata": {
    "collapsed": false
   },
   "id": "59314697b34379d"
  },
  {
   "cell_type": "code",
   "execution_count": 36,
   "outputs": [],
   "source": [
    "from gpt_bot.stt import AzureSTT"
   ],
   "metadata": {
    "collapsed": false,
    "ExecuteTime": {
     "end_time": "2023-10-04T15:17:39.181104600Z",
     "start_time": "2023-10-04T15:17:39.151227700Z"
    }
   },
   "id": "53c730984bd02ba8"
  },
  {
   "cell_type": "code",
   "execution_count": 37,
   "outputs": [
    {
     "name": "stdout",
     "output_type": "stream",
     "text": [
      "say something...\n",
      "you said: Und wie gehts?\n"
     ]
    },
    {
     "data": {
      "text/plain": "'Und wie gehts?'"
     },
     "execution_count": 37,
     "metadata": {},
     "output_type": "execute_result"
    }
   ],
   "source": [
    "# Beispiel-Nutzung\n",
    "azure_stt = AzureSTT(subscription_key, region, verbose=True)\n",
    "azure_stt.stt()"
   ],
   "metadata": {
    "collapsed": false,
    "ExecuteTime": {
     "end_time": "2023-10-04T15:17:43.697729800Z",
     "start_time": "2023-10-04T15:17:39.986299700Z"
    }
   },
   "id": "92962504f18b98f5"
  },
  {
   "cell_type": "markdown",
   "source": [
    "Fazit zu Azure STT\n",
    "+ Relativ einfach zu verwenden\n",
    "+ Gute Performance\n",
    "+ Gute Erkennung von Fremdwörtern und \n",
    "+ Für Studierende kostenlos\n",
    "\n",
    "- Nicht kostenlos\n",
    "- Sprache muss definiert werden"
   ],
   "metadata": {
    "collapsed": false
   },
   "id": "2cd906669a00aab"
  }
 ],
 "metadata": {
  "kernelspec": {
   "display_name": "Python 3",
   "language": "python",
   "name": "python3"
  },
  "language_info": {
   "codemirror_mode": {
    "name": "ipython",
    "version": 2
   },
   "file_extension": ".py",
   "mimetype": "text/x-python",
   "name": "python",
   "nbconvert_exporter": "python",
   "pygments_lexer": "ipython2",
   "version": "2.7.6"
  }
 },
 "nbformat": 4,
 "nbformat_minor": 5
}
